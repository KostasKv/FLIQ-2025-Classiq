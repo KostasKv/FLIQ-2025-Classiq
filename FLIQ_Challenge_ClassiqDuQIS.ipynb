{
 "cells": [
  {
   "cell_type": "markdown",
   "id": "ac6de42c",
   "metadata": {},
   "source": [
    "# Make Sure You Are Ready to Go\n",
    "\n",
    "$\\renewcommand{\\ket}[1]{\\left| #1 \\right\\rangle}\n",
    "\\renewcommand{\\bra}[1]{\\left\\langle #1 \\right|}\n",
    "\\renewcommand{\\braket}[2]{\\left\\langle #1 | #2 \\right\\rangle}\n",
    "\\newcommand{\\ketbra}[2]{\\left| #1 \\right\\rangle\\!\\left\\langle #2 \\right|}$\n",
    "\n",
    "If you haven't done it yet, try running the following lines of code and use the [registration and installation](https://docs.classiq.io/latest/classiq_101/registration_installations/) page if you are having difficulty setting up your environment.\\\n",
    "Uncomment and run the following command to install or update to the latest version of the Classiq SDK (if not installed yet):\n"
   ]
  },
  {
   "cell_type": "code",
   "execution_count": 1,
   "id": "85f503ae",
   "metadata": {},
   "outputs": [
    {
     "name": "stdout",
     "output_type": "stream",
     "text": [
      "Requirement already satisfied: classiq in /Users/kostas/anaconda3/envs/quantum/lib/python3.12/site-packages (0.79.1)\n",
      "Requirement already satisfied: ConfigArgParse<2.0.0,>=1.5.3 in /Users/kostas/anaconda3/envs/quantum/lib/python3.12/site-packages (from classiq) (1.7)\n",
      "Requirement already satisfied: Pyomo<6.6,>=6.5 in /Users/kostas/anaconda3/envs/quantum/lib/python3.12/site-packages (from classiq) (6.5.0)\n",
      "Requirement already satisfied: black<25.0,>=24.0 in /Users/kostas/anaconda3/envs/quantum/lib/python3.12/site-packages (from classiq) (24.10.0)\n",
      "Requirement already satisfied: httpx<1,>=0.23.0 in /Users/kostas/anaconda3/envs/quantum/lib/python3.12/site-packages (from classiq) (0.28.1)\n",
      "Requirement already satisfied: keyring<24.0.0,>=23.5.0 in /Users/kostas/anaconda3/envs/quantum/lib/python3.12/site-packages (from classiq) (23.13.1)\n",
      "Requirement already satisfied: matplotlib<4.0.0,>=3.4.3 in /Users/kostas/anaconda3/envs/quantum/lib/python3.12/site-packages (from classiq) (3.10.0)\n",
      "Requirement already satisfied: networkx<3.0.0,>=2.5.1 in /Users/kostas/anaconda3/envs/quantum/lib/python3.12/site-packages (from classiq) (2.8.8)\n",
      "Requirement already satisfied: numexpr<3.0.0,>=2.7.3 in /Users/kostas/anaconda3/envs/quantum/lib/python3.12/site-packages (from classiq) (2.10.2)\n",
      "Requirement already satisfied: numpy<2.0.0,>=1.26.0 in /Users/kostas/anaconda3/envs/quantum/lib/python3.12/site-packages (from classiq) (1.26.4)\n",
      "Requirement already satisfied: packaging<24.0,>=23.2 in /Users/kostas/anaconda3/envs/quantum/lib/python3.12/site-packages (from classiq) (23.2)\n",
      "Requirement already satisfied: pandas<3.0.0,>=1.4.0 in /Users/kostas/anaconda3/envs/quantum/lib/python3.12/site-packages (from classiq) (2.2.2)\n",
      "Requirement already satisfied: plotly<6.0.0,>=5.7.0 in /Users/kostas/anaconda3/envs/quantum/lib/python3.12/site-packages (from classiq) (5.24.1)\n",
      "Requirement already satisfied: pydantic<2.10.0,>=2.9.0 in /Users/kostas/anaconda3/envs/quantum/lib/python3.12/site-packages (from classiq) (2.9.2)\n",
      "Requirement already satisfied: pydantic-settings<3.0.0,>=2.4.0 in /Users/kostas/anaconda3/envs/quantum/lib/python3.12/site-packages (from classiq) (2.9.1)\n",
      "Requirement already satisfied: scipy<2.0.0,>=1.11.0 in /Users/kostas/anaconda3/envs/quantum/lib/python3.12/site-packages (from classiq) (1.15.3)\n",
      "Requirement already satisfied: sympy<2.0.0,>=1.13.0 in /Users/kostas/anaconda3/envs/quantum/lib/python3.12/site-packages (from classiq) (1.14.0)\n",
      "Requirement already satisfied: tabulate<1,>=0.8.9 in /Users/kostas/anaconda3/envs/quantum/lib/python3.12/site-packages (from classiq) (0.9.0)\n",
      "Requirement already satisfied: tqdm<5.0.0,>=4.67.1 in /Users/kostas/anaconda3/envs/quantum/lib/python3.12/site-packages (from classiq) (4.67.1)\n",
      "Requirement already satisfied: zstandard<0.24.0,>=0.23.0 in /Users/kostas/anaconda3/envs/quantum/lib/python3.12/site-packages (from classiq) (0.23.0)\n",
      "Requirement already satisfied: click>=8.0.0 in /Users/kostas/anaconda3/envs/quantum/lib/python3.12/site-packages (from black<25.0,>=24.0->classiq) (8.2.0)\n",
      "Requirement already satisfied: mypy-extensions>=0.4.3 in /Users/kostas/anaconda3/envs/quantum/lib/python3.12/site-packages (from black<25.0,>=24.0->classiq) (1.1.0)\n",
      "Requirement already satisfied: pathspec>=0.9.0 in /Users/kostas/anaconda3/envs/quantum/lib/python3.12/site-packages (from black<25.0,>=24.0->classiq) (0.12.1)\n",
      "Requirement already satisfied: platformdirs>=2 in /Users/kostas/anaconda3/envs/quantum/lib/python3.12/site-packages (from black<25.0,>=24.0->classiq) (3.10.0)\n",
      "Requirement already satisfied: anyio in /Users/kostas/anaconda3/envs/quantum/lib/python3.12/site-packages (from httpx<1,>=0.23.0->classiq) (4.9.0)\n",
      "Requirement already satisfied: certifi in /Users/kostas/anaconda3/envs/quantum/lib/python3.12/site-packages (from httpx<1,>=0.23.0->classiq) (2025.4.26)\n",
      "Requirement already satisfied: httpcore==1.* in /Users/kostas/anaconda3/envs/quantum/lib/python3.12/site-packages (from httpx<1,>=0.23.0->classiq) (1.0.9)\n",
      "Requirement already satisfied: idna in /Users/kostas/anaconda3/envs/quantum/lib/python3.12/site-packages (from httpx<1,>=0.23.0->classiq) (3.10)\n",
      "Requirement already satisfied: h11>=0.16 in /Users/kostas/anaconda3/envs/quantum/lib/python3.12/site-packages (from httpcore==1.*->httpx<1,>=0.23.0->classiq) (0.16.0)\n",
      "Requirement already satisfied: jaraco.classes in /Users/kostas/anaconda3/envs/quantum/lib/python3.12/site-packages (from keyring<24.0.0,>=23.5.0->classiq) (3.4.0)\n",
      "Requirement already satisfied: contourpy>=1.0.1 in /Users/kostas/anaconda3/envs/quantum/lib/python3.12/site-packages (from matplotlib<4.0.0,>=3.4.3->classiq) (1.3.1)\n",
      "Requirement already satisfied: cycler>=0.10 in /Users/kostas/anaconda3/envs/quantum/lib/python3.12/site-packages (from matplotlib<4.0.0,>=3.4.3->classiq) (0.11.0)\n",
      "Requirement already satisfied: fonttools>=4.22.0 in /Users/kostas/anaconda3/envs/quantum/lib/python3.12/site-packages (from matplotlib<4.0.0,>=3.4.3->classiq) (4.55.3)\n",
      "Requirement already satisfied: kiwisolver>=1.3.1 in /Users/kostas/anaconda3/envs/quantum/lib/python3.12/site-packages (from matplotlib<4.0.0,>=3.4.3->classiq) (1.4.8)\n",
      "Requirement already satisfied: pillow>=8 in /Users/kostas/anaconda3/envs/quantum/lib/python3.12/site-packages (from matplotlib<4.0.0,>=3.4.3->classiq) (10.4.0)\n",
      "Requirement already satisfied: pyparsing>=2.3.1 in /Users/kostas/anaconda3/envs/quantum/lib/python3.12/site-packages (from matplotlib<4.0.0,>=3.4.3->classiq) (3.2.0)\n",
      "Requirement already satisfied: python-dateutil>=2.7 in /Users/kostas/anaconda3/envs/quantum/lib/python3.12/site-packages (from matplotlib<4.0.0,>=3.4.3->classiq) (2.9.0.post0)\n",
      "Requirement already satisfied: pytz>=2020.1 in /Users/kostas/anaconda3/envs/quantum/lib/python3.12/site-packages (from pandas<3.0.0,>=1.4.0->classiq) (2024.1)\n",
      "Requirement already satisfied: tzdata>=2022.7 in /Users/kostas/anaconda3/envs/quantum/lib/python3.12/site-packages (from pandas<3.0.0,>=1.4.0->classiq) (2024.1)\n",
      "Requirement already satisfied: tenacity>=6.2.0 in /Users/kostas/anaconda3/envs/quantum/lib/python3.12/site-packages (from plotly<6.0.0,>=5.7.0->classiq) (9.0.0)\n",
      "Requirement already satisfied: annotated-types>=0.6.0 in /Users/kostas/anaconda3/envs/quantum/lib/python3.12/site-packages (from pydantic<2.10.0,>=2.9.0->classiq) (0.7.0)\n",
      "Requirement already satisfied: pydantic-core==2.23.4 in /Users/kostas/anaconda3/envs/quantum/lib/python3.12/site-packages (from pydantic<2.10.0,>=2.9.0->classiq) (2.23.4)\n",
      "Requirement already satisfied: typing-extensions>=4.6.1 in /Users/kostas/anaconda3/envs/quantum/lib/python3.12/site-packages (from pydantic<2.10.0,>=2.9.0->classiq) (4.13.2)\n",
      "Requirement already satisfied: python-dotenv>=0.21.0 in /Users/kostas/anaconda3/envs/quantum/lib/python3.12/site-packages (from pydantic-settings<3.0.0,>=2.4.0->classiq) (1.1.0)\n",
      "Requirement already satisfied: typing-inspection>=0.4.0 in /Users/kostas/anaconda3/envs/quantum/lib/python3.12/site-packages (from pydantic-settings<3.0.0,>=2.4.0->classiq) (0.4.0)\n",
      "Requirement already satisfied: ply in /Users/kostas/anaconda3/envs/quantum/lib/python3.12/site-packages (from Pyomo<6.6,>=6.5->classiq) (3.11)\n",
      "Requirement already satisfied: mpmath<1.4,>=1.1.0 in /Users/kostas/anaconda3/envs/quantum/lib/python3.12/site-packages (from sympy<2.0.0,>=1.13.0->classiq) (1.3.0)\n",
      "Requirement already satisfied: six>=1.5 in /Users/kostas/anaconda3/envs/quantum/lib/python3.12/site-packages (from python-dateutil>=2.7->matplotlib<4.0.0,>=3.4.3->classiq) (1.16.0)\n",
      "Requirement already satisfied: sniffio>=1.1 in /Users/kostas/anaconda3/envs/quantum/lib/python3.12/site-packages (from anyio->httpx<1,>=0.23.0->classiq) (1.3.1)\n",
      "Requirement already satisfied: more-itertools in /Users/kostas/anaconda3/envs/quantum/lib/python3.12/site-packages (from jaraco.classes->keyring<24.0.0,>=23.5.0->classiq) (10.7.0)\n",
      "Note: you may need to restart the kernel to use updated packages.\n"
     ]
    }
   ],
   "source": [
    "# pip install -U classiq"
   ]
  },
  {
   "cell_type": "code",
   "execution_count": 2,
   "id": "32deceb1",
   "metadata": {},
   "outputs": [],
   "source": [
    "import classiq"
   ]
  },
  {
   "cell_type": "markdown",
   "id": "6fbf8eae",
   "metadata": {},
   "source": [
    "Uncomment and run the following command if your machine has not been authenticated yet, you only need to run it once!\n"
   ]
  },
  {
   "cell_type": "code",
   "execution_count": 3,
   "id": "39634579",
   "metadata": {},
   "outputs": [],
   "source": [
    "# classiq.authenticate()"
   ]
  },
  {
   "cell_type": "markdown",
   "id": "5305b3c8",
   "metadata": {},
   "source": [
    "Now you are good to go!\n"
   ]
  },
  {
   "cell_type": "markdown",
   "id": "c77d86a9",
   "metadata": {},
   "source": [
    "# Rydberg Phase Diagram\n"
   ]
  },
  {
   "cell_type": "markdown",
   "id": "d0929b0c",
   "metadata": {},
   "source": [
    "Before starting to code, let us reiterating some theory on Rydberg atoms - the subject of this challenge. They interact via the following Hamiltonian:\n",
    "\n",
    "$$\n",
    "H = \\frac{\\Omega}{2} \\sum_{i=1}^N X_i\n",
    "    - \\delta \\sum_{i=1}^N n_i\n",
    "    + \\sum_{i \\lt j} \\frac{\\Omega R_b^6 }{(a|i-j|)^6} n_i n_j.\n",
    "$$\n",
    "\n",
    "You can find the phase diagram for a $51$-atom chain below. It is obtained by fixing $a=1$ and $\\Omega=1$ and varying $\\delta$ and $R_b$.\n"
   ]
  },
  {
   "cell_type": "markdown",
   "id": "d294a85c",
   "metadata": {},
   "source": [
    "<img src=\"phase_diagram.png\" alt=\"Phase Diagram\" width=\"800\">\n"
   ]
  },
  {
   "cell_type": "markdown",
   "id": "7e9a92b5",
   "metadata": {},
   "source": [
    "Fig.1: Phase diagram of the 1D Rydberg Hamiltonian, traced out by (left) bipartite entanglement entropy and (right) expectation value of the number of Rydberg excitations. Plots are obtained using tensor-network representation of the ground states of $H$.\n"
   ]
  },
  {
   "cell_type": "markdown",
   "id": "0462afa8",
   "metadata": {},
   "source": [
    "In this challenge, we focus on distinguishing between the $Z2$ phase, where the ground state of $H$ has large overlap with the state $\\ket{rgr\\ldots gr}$, and the $Z3$ phase, where the ground state overlaps strongly with basis states of the form $\\ket{\\ldots rggrgg\\ldots}$.\n",
    "\n",
    "Evidently, such systems can be efficiently studied using tensor networks. However, this challenge prepares us for a more realistic scenario in which we only have access to measurement outcomes from the ground state of some Hamiltonian, and our goal is to determine which phase of matter the state belongs to.\n"
   ]
  },
  {
   "cell_type": "markdown",
   "id": "cedcc958",
   "metadata": {},
   "source": [
    "# Loading and Processing Measurement Data\n",
    "\n",
    "Training data for your model contains measurement results in randomized bases performed on a 51-qubit Rydberg atoms chain. We load training data from the .npz file in the next cell.\n"
   ]
  },
  {
   "cell_type": "code",
   "execution_count": 4,
   "id": "33060828",
   "metadata": {},
   "outputs": [],
   "source": [
    "import numpy as np"
   ]
  },
  {
   "cell_type": "code",
   "execution_count": 5,
   "id": "4e3917d1",
   "metadata": {},
   "outputs": [
    {
     "name": "stdout",
     "output_type": "stream",
     "text": [
      "There are 20 data points\n",
      "There were T = 500 measurements performed for each data point\n",
      "The measurements were performed on 51 qubits\n",
      "Example: 2nd experiment result of 8th data point -> ['r', '-', 'i', 'i', 'r', '+', 'r', 'g', '+', '-i', 'r', '-', '-', 'g', '-i', '-', 'r', 'g', 'i', 'i', 'i', '-', 'r', '-i', 'r', 'i', 'r', '+', 'i', 'g', '-', '-i', '-', 'g', '-i', 'i', 'r', '-', '-', '-', 'i', 'i', '-i', 'g', '-i', 'g', 'r', '-', 'r', '+', '-']\n",
      "Example: label for the 8th data point -> Z2\n",
      "All labels: ['Z2', 'Z2', 'Z2', 'Z2', 'Z2', 'Z2', 'Z2', 'Z2', 'Z2', 'Z2', 'Z3', 'Z3', 'Z3', 'Z3', 'Z3', 'Z3', 'Z3', 'Z3', 'Z3', 'Z3']\n"
     ]
    }
   ],
   "source": [
    "loaded = np.load(\"training_data.npz\", allow_pickle=True)\n",
    "\n",
    "unprocessed_features = loaded[\"features\"].tolist()\n",
    "unprocessed_labels = loaded[\"labels\"].tolist()\n",
    "\n",
    "print(f'There are {len(unprocessed_features)} data points')\n",
    "print(f'There were T = {len(unprocessed_features[0])} measurements performed for each data point')\n",
    "print(f'The measurements were performed on {len(unprocessed_features[0][0])} qubits')\n",
    "print(f'Example: 2nd experiment result of 8th data point -> {unprocessed_features[7][1]}')\n",
    "print(f'Example: label for the 8th data point -> {unprocessed_labels[7]}')\n",
    "print(f'All labels: {unprocessed_labels}')"
   ]
  },
  {
   "cell_type": "markdown",
   "id": "3ba14877",
   "metadata": {},
   "source": [
    "In the above,\n",
    "\n",
    "-   $\\ket{g}$ is the atomic ground state, which is a $+1$-eigenstate of Pauli $Z$\n",
    "-   $\\ket{r}$ is the highly excited Rydberg state, which is a $-1$-eigenstate of Pauli $Z$\n",
    "-   $\\ket{+} = \\frac{1}{\\sqrt2}(\\ket{g} + \\ket{r})$, a $+1$-eigenstate of Pauli $X$\n",
    "-   $\\ket{-} = \\frac{1}{\\sqrt2}(\\ket{g} - \\ket{r})$, a $-1$-eigenstate of Pauli $X$\n",
    "-   $\\ket{+i} = \\frac{1}{\\sqrt2}(\\ket{g} +i\\ket{r})$, a $+1$-eigenstate of Pauli $Y$\n",
    "-   $\\ket{-i} = \\frac{1}{\\sqrt2}(\\ket{g} -i \\ket{r})$, a $-1$-eigenstate of Pauli $Y$.\n",
    "\n",
    "It is up to you how to convert the features into classical shadows and labels into numbers and then both into training data for your model. For example, you could assign $-1$ to $Z2$ and $+1$ to $Z3$.\n",
    "\n",
    "**Note:** If you decide to define any helper classes/functions in a separate Python file, please submit it alongside your solution notebook, so we can run and grade it properly\n"
   ]
  },
  {
   "cell_type": "code",
   "execution_count": 6,
   "id": "deba5d04",
   "metadata": {},
   "outputs": [
    {
     "name": "stdout",
     "output_type": "stream",
     "text": [
      "Processed labels: [-1, -1, -1, -1, -1, -1, -1, -1, -1, -1, 1, 1, 1, 1, 1, 1, 1, 1, 1, 1]\n",
      "Example: 2nd experiment result of 8th data point -> [-1, 0, 0, 0, -1, 0, -1, 1, 0, 0, -1, 0, 0, 1, 0, 0, -1, 1, 0, 0, 0, 0, -1, 0, -1, 0, -1, 0, 0, 1, 0, 0, 0, 1, 0, 0, -1, 0, 0, 0, 0, 0, 0, 1, 0, 1, -1, 0, -1, 0, 0]\n"
     ]
    }
   ],
   "source": [
    "### Your Code Goes Here: ###\n",
    "# Using mapping:\n",
    "# Z2 -> -1\n",
    "# Z3 -> +1\n",
    "labels = [1 if (x == 'Z3') else -1 for x in unprocessed_labels]\n",
    "print(f'Processed labels: {labels}')\n",
    "\n",
    "raw_features = []\n",
    "\n",
    "for data_point in unprocessed_features:\n",
    "    processed_data_point = []\n",
    "\n",
    "    for measurement_round in data_point:\n",
    "        processed_measurements = []\n",
    "\n",
    "        for qubit_outcome in measurement_round:\n",
    "            if qubit_outcome[0] == 'g':\n",
    "                value = 1\n",
    "            elif qubit_outcome[0] == 'r':\n",
    "                value = -1\n",
    "            else:\n",
    "                value = 0\n",
    "\n",
    "            processed_measurements.append(value)\n",
    "\n",
    "        processed_data_point.append(processed_measurements)\n",
    "    \n",
    "    raw_features.append(processed_data_point)\n",
    "\n",
    "print(f'Example: 2nd experiment result of 8th data point -> {raw_features[7][1]}')"
   ]
  },
  {
   "cell_type": "markdown",
   "metadata": {},
   "source": [
    "As the terms $Z_2$-ordered and $Z_3$-ordered suggest, and as we are told in the provided references in the challenge statement, the ground states (whose measurements we are provided) strongly overlap with:\n",
    "\n",
    "-   $\\ket{10101010...}$ or $\\ket{01010101...}$ for $Z_2$-ordered phase,\n",
    "-   or with $\\ket{1001001...}, \\ket{01001001...},$ or $\\ket{00100100...}$ for $Z_3$-ordered phase.\n",
    "\n",
    "We can see from the pattern it is sufficient to look at just the first four qubits to distinguish between these patterns. I.e., we are distingiushing between\n",
    "\n",
    "-   $\\ket{1010...}$ or $\\ket{0101...}$ for $Z_2$-ordered phase,\n",
    "-   or with $\\ket{1001...}, \\ket{0100...},$ or $\\ket{0010...}$ for $Z_3$-ordered phase.\n"
   ]
  },
  {
   "cell_type": "code",
   "execution_count": 7,
   "metadata": {},
   "outputs": [],
   "source": [
    "raw_features = np.array(raw_features)\n",
    "\n",
    "# Consists of <Z_i> expectation values, averaged over all T=500 experiments (measurement rounds) for that data point\n",
    "flattened = np.mean(raw_features, axis=1)\n",
    "\n",
    "rounded = np.where(flattened >= 0, 1, -1)\n",
    "mapped = np.where(rounded == 1, 0, 1)\n",
    "\n",
    "# We will only use the first 4 qubits. There is enough information in the first 4 qubits to classify the data points.\n",
    "features = mapped[:, :4]"
   ]
  },
  {
   "cell_type": "markdown",
   "id": "8016123e",
   "metadata": {},
   "source": [
    "# Defining a Quantum Model\n",
    "\n",
    "In this section, you will create a QML model for classifying the quantum phases. This will include 3 stages:\n",
    "\n",
    "-   First, you will need to decide on the data encoding scheme, i.e. loading numerical features you obtained above into the quantum circuit.\n",
    "-   Then, you will need to come up with an ansatz - a parametrized quantum circuit, which will be optimized to perform classification.\n",
    "-   Finally, to readout classical information from the quantum model, you will need to perform some sort of measurement on the resultant quantum state. Perhaps, you could extract an expectation value of some Pauli-string $P \\in \\{I, X, Y, Z\\}^{\\otimes N}$, so that $\\langle P \\rangle < b$ is interpreted as $Z2$ and $\\langle P \\rangle > b$ is interpreted as $Z3$ for some decision boundary $b$.\n",
    "\n",
    "There are several approaches to QML in Classiq, linked below.\n",
    "\n",
    "You may find the following guides useful:\n",
    "\n",
    "-   QML with Classiq: http://docs.classiq.io/latest/user-guide/read/qml_with_classiq_guide/\n",
    "-   Variational Model Example: https://github.com/Classiq/classiq-library/blob/main/algorithms/qaoa/maxcut/qaoa_max_cut.ipynb\n",
    "-   Hybrid QNN: https://docs.classiq.io/latest/explore/algorithms/qml/hybrid_qnn/hybrid_qnn_for_subset_majority/\n",
    "\n",
    "Although the 2nd guide describes a hybrid model, **you may not implement a hybrid model**, the guide should only be used as a reference as to how to implement QML.\n",
    "\n",
    "**Warning**: Training using the Classiq PyTorch integration may take a prohibitive amount of time. Consider this when choosing an approach.\n"
   ]
  },
  {
   "cell_type": "code",
   "execution_count": 8,
   "id": "6413592b",
   "metadata": {},
   "outputs": [],
   "source": [
    "from classiq import *\n",
    "from classiq.execution import *\n",
    "# You might need to make additional imports depending on your implementation"
   ]
  },
  {
   "cell_type": "markdown",
   "metadata": {},
   "source": []
  },
  {
   "cell_type": "code",
   "execution_count": 9,
   "id": "d5a853fa",
   "metadata": {},
   "outputs": [],
   "source": [
    "# The following function signatures are only a template to get you started. You may, and should change them to suit your needs!\n",
    "\n",
    "#Change these according to your implementation.\n",
    "\n",
    "num_qubits = 5\n",
    "num_auxillary_qubits = 1\n",
    "num_data_qubits = num_qubits - num_auxillary_qubits \n",
    "\n",
    "num_weights = num_data_qubits - 2 # Skipping parametrising first two qubits. See ansatz definition.\n",
    "feature_length = features.shape[1]\n",
    "\n",
    "@qfunc\n",
    "def encoding(feature: CArray[CReal, feature_length], wires: QArray) -> None: # your encoding scheme\n",
    "    ### Your Code Goes Here: ###\n",
    "    for i in range(num_qubits - 1):\n",
    "        RX(np.pi * feature[i], wires[i])\n",
    "\n",
    "@qfunc\n",
    "def ansatz(weights: CArray[CReal, num_weights], wires: QArray) -> None: # your ansatz\n",
    "    ### Your Code Goes Here: ###\n",
    "    for i in range(num_data_qubits - 2):\n",
    "        # First qubits of the Reydberg chain have strongest magnitude expectation values in the true ground state. We skip optimising these to reduce parameter count \n",
    "        wire_index = i + 2\n",
    "\n",
    "        RX(2 * np.pi * weights[i], wires[wire_index])\n",
    "\n",
    "@qfunc\n",
    "def main(\n",
    "            feature: CArray[CReal, feature_length],\n",
    "            weights: CArray[CReal, num_weights],\n",
    "            result: Output[QArray[QBit]],\n",
    "        ) -> None:\n",
    "    '''\n",
    "    Combine the encoding scheme and parametrized quantum circuit you came up with\n",
    "    to encode and then process data\n",
    "    '''\n",
    "    allocate(num_qubits, result)\n",
    "    ### Your Code Goes Here: ###\n",
    "    encoding(feature, result)\n",
    "    ansatz(weights, result)\n",
    "\n",
    "    for i in range(0, num_qubits - 3):\n",
    "        CCX([result[i], result[i + 2]], result[num_qubits-1])\n"
   ]
  },
  {
   "cell_type": "markdown",
   "id": "4c2bcb6f",
   "metadata": {},
   "source": [
    "### Synthesis\n",
    "\n",
    "Before training, you must synthesize your model into a quantum program. Placeholders for your parameters will be automatically generated.\n",
    "\n",
    "You may find the following documentation useful: https://docs.classiq.io/latest/sdk-reference/synthesis/\n"
   ]
  },
  {
   "cell_type": "code",
   "execution_count": 10,
   "metadata": {},
   "outputs": [
    {
     "name": "stdout",
     "output_type": "stream",
     "text": [
      "Quantum program link: https://platform.classiq.io/circuit/2xGJMY9RGfARkhr3bYFa3aeyNqM?login=True&version=0.79.1\n"
     ]
    }
   ],
   "source": [
    "# Set your preferences here!\n",
    "\n",
    "NUM_SHOTS = None\n",
    "\n",
    "# SIMULATOR is the default backend.\n",
    "BACKEND_PREFERENCES = ClassiqBackendPreferences(\n",
    "        backend_name=ClassiqSimulatorBackendNames.SIMULATOR\n",
    ")\n",
    "\n",
    "# Vary this to achieve the best optimization of your circuit.\n",
    "OPTIMIZATION_PARAMETER = 'no_opt' \n",
    "\n",
    "QMOD = create_model(\n",
    "            main,\n",
    "            execution_preferences=ExecutionPreferences(\n",
    "                num_shots=NUM_SHOTS, backend_preferences=BACKEND_PREFERENCES\n",
    "            ),\n",
    "            constraints=Constraints(optimization_parameter=OPTIMIZATION_PARAMETER)\n",
    "        )\n",
    "\n",
    "QPROG = synthesize(QMOD)\n",
    "\n",
    "# Use the show() function to display your circuit in the browser.\n",
    "show(QPROG)"
   ]
  },
  {
   "cell_type": "markdown",
   "id": "a03b040c",
   "metadata": {},
   "source": [
    "# Training the Model\n",
    "\n",
    "Here, you will optimize the weights in ansatz, so that the model can distiguish between the phases.\n",
    "\n",
    "You can find the following Classiq tutorial and documentation useful:\n",
    "\n",
    "-   Execution: https://docs.classiq.io/latest/sdk-reference/execution/\n",
    "-   Execution Session: https://docs.classiq.io/latest/user-guide/execution/ExecutionSession/\n",
    "-   Executing With Parameters: https://docs.classiq.io/latest/qmod-reference/language-reference/quantum-entry-point/\n",
    "\n",
    "It is highly recommended to use an ExecutionSession if you are executing the same circuit with different parameters many times. It is not needed to train parameters using the Classiq PyTorch integration.\n",
    "\n",
    "If you are not using the PyTorch integration, you will need an objective (also known as a 'loss', or 'cost') function. Depending on your implementation, you will need to either minimize or maximize it in training.\n"
   ]
  },
  {
   "cell_type": "code",
   "execution_count": 11,
   "id": "c83c4ef7",
   "metadata": {},
   "outputs": [],
   "source": [
    "### Your Code Goes Here: ###\n",
    "from scipy.optimize import minimize\n",
    "\n",
    "input_features = features.tolist()\n",
    "\n",
    "# Measure auxillary qubit\n",
    "hamiltonian = [PauliTerm([Pauli.Z, Pauli.I, Pauli.I, Pauli.I, Pauli.I], coefficient=1),]\n",
    "\n",
    "def execute_circuit_and_get_expectation_value(features, weights):\n",
    "    batch_params = [{'feature': features[i], 'weights': weights} for i in range(len(features))]\n",
    "\n",
    "    # results = es.batch_sample(batch_params)\n",
    "    estimates = es.batch_estimate(hamiltonian, batch_params)\n",
    "\n",
    "    # Extra real part of expectation values\n",
    "    return [estimate.value.real for estimate in estimates]\n",
    "\n",
    "def loss_fn(weights):\n",
    "    weights = weights.tolist() if isinstance(weights, np.ndarray) else weights\n",
    "    exp_vals = execute_circuit_and_get_expectation_value(input_features, weights)\n",
    "    target_vals = labels \n",
    "    return mean_squared_error(exp_vals, target_vals)\n",
    "\n",
    "def mean_squared_error(x, y):\n",
    "    return sum((a - b) ** 2 for a, b in zip(x, y)) / len(x)\n",
    "\n",
    "\n",
    "init_weights = (np.random.randn(num_weights) * 0.1).tolist()\n",
    "\n",
    "# Train model\n",
    "with ExecutionSession(QPROG) as es:\n",
    "    result = minimize(loss_fn, init_weights, method=\"COBYLA\", options={\"maxiter\": 1000, \"tol\": 1e-3})"
   ]
  },
  {
   "cell_type": "code",
   "execution_count": 12,
   "metadata": {},
   "outputs": [
    {
     "name": "stdout",
     "output_type": "stream",
     "text": [
      "Optimised weights: [0.9980758490115569, -0.11192550299445024]\n",
      "Final loss (Mean-Squared Error): 9.5367431640625e-08\n"
     ]
    }
   ],
   "source": [
    "# Extract optimised model weights and loss\n",
    "optimised_weights = result.x.tolist()\n",
    "loss = result.fun\n",
    "\n",
    "print(\"Optimised weights:\", optimised_weights)\n",
    "print(\"Final loss (Mean-Squared Error):\", loss)"
   ]
  },
  {
   "cell_type": "markdown",
   "id": "198d25e0",
   "metadata": {},
   "source": [
    "Training that takes too long may make it impossible to grade your submission.\n"
   ]
  },
  {
   "cell_type": "markdown",
   "id": "b75f5aed",
   "metadata": {},
   "source": [
    "# Testing the Model\n",
    "\n",
    "Good job! Now it's time to see whether the model you designed can successfully perform the classification. For this, compare the predictions of your model to the actual labels.\n",
    "\n",
    "If the model does not perform well, try modifying the encoding and/or the ansatz (by using different number of parameters/qubits/ansatz layers/...)\n"
   ]
  },
  {
   "cell_type": "code",
   "execution_count": 13,
   "id": "c28e2e16",
   "metadata": {},
   "outputs": [
    {
     "ename": "NameError",
     "evalue": "name 'processed_labels' is not defined",
     "output_type": "error",
     "traceback": [
      "\u001b[0;31m---------------------------------------------------------------------------\u001b[0m",
      "\u001b[0;31mNameError\u001b[0m                                 Traceback (most recent call last)",
      "\u001b[1;32m/Users/kostas/code/quantum/FLIQ 2025/FLIQ_Challenge_ClassiqDuQIS.ipynb Cell 30\u001b[0m line \u001b[0;36m1\n\u001b[1;32m      <a href='vscode-notebook-cell:/Users/kostas/code/quantum/FLIQ%202025/FLIQ_Challenge_ClassiqDuQIS.ipynb#X34sZmlsZQ%3D%3D?line=7'>8</a>\u001b[0m predictions \u001b[39m=\u001b[39m [\u001b[39m1\u001b[39m \u001b[39mif\u001b[39;00m exp_val \u001b[39m>\u001b[39m\u001b[39m=\u001b[39m \u001b[39m0\u001b[39m \u001b[39melse\u001b[39;00m \u001b[39m-\u001b[39m\u001b[39m1\u001b[39m \u001b[39mfor\u001b[39;00m exp_val \u001b[39min\u001b[39;00m exp_vals]\n\u001b[1;32m     <a href='vscode-notebook-cell:/Users/kostas/code/quantum/FLIQ%202025/FLIQ_Challenge_ClassiqDuQIS.ipynb#X34sZmlsZQ%3D%3D?line=9'>10</a>\u001b[0m \u001b[39m# Calculate accuracy\u001b[39;00m\n\u001b[0;32m---> <a href='vscode-notebook-cell:/Users/kostas/code/quantum/FLIQ%202025/FLIQ_Challenge_ClassiqDuQIS.ipynb#X34sZmlsZQ%3D%3D?line=10'>11</a>\u001b[0m num_correct \u001b[39m=\u001b[39m \u001b[39msum\u001b[39m(\u001b[39m1\u001b[39m \u001b[39mfor\u001b[39;00m prediction, true_label \u001b[39min\u001b[39;00m \u001b[39mzip\u001b[39m(predictions, processed_labels) \u001b[39mif\u001b[39;00m prediction \u001b[39m==\u001b[39m true_label)\n\u001b[1;32m     <a href='vscode-notebook-cell:/Users/kostas/code/quantum/FLIQ%202025/FLIQ_Challenge_ClassiqDuQIS.ipynb#X34sZmlsZQ%3D%3D?line=11'>12</a>\u001b[0m accuracy \u001b[39m=\u001b[39m num_correct \u001b[39m/\u001b[39m \u001b[39mlen\u001b[39m(predictions)\n\u001b[1;32m     <a href='vscode-notebook-cell:/Users/kostas/code/quantum/FLIQ%202025/FLIQ_Challenge_ClassiqDuQIS.ipynb#X34sZmlsZQ%3D%3D?line=13'>14</a>\u001b[0m \u001b[39mprint\u001b[39m(\u001b[39mf\u001b[39m\u001b[39m'\u001b[39m\u001b[39mAccuracy:\u001b[39m\u001b[39m\\t\u001b[39;00m\u001b[39m{\u001b[39;00m\u001b[39mround\u001b[39m(accuracy\u001b[39m \u001b[39m\u001b[39m*\u001b[39m\u001b[39m \u001b[39m\u001b[39m100\u001b[39m,\u001b[39m \u001b[39m\u001b[39m2\u001b[39m)\u001b[39m}\u001b[39;00m\u001b[39m%\u001b[39m\u001b[39m'\u001b[39m)\n",
      "\u001b[0;31mNameError\u001b[0m: name 'processed_labels' is not defined"
     ]
    }
   ],
   "source": [
    "### Your Code Goes Here: ###\n",
    "\n",
    "# Execute circuit with optimised weights\n",
    "with ExecutionSession(QPROG) as es:\n",
    "    exp_vals = execute_circuit_and_get_expectation_value(input_features, optimised_weights)\n",
    "\n",
    "# Map circuit outputs to predictions\n",
    "predictions = [1 if exp_val >= 0 else -1 for exp_val in exp_vals]\n",
    "\n",
    "# Calculate accuracy\n",
    "num_correct = sum(1 for prediction, true_label in zip(predictions, labels) if prediction == true_label)\n",
    "accuracy = num_correct / len(predictions)\n",
    "\n",
    "print(f'Accuracy:\\t{round(accuracy * 100, 2)}%')\n",
    "print(f'Predicted:\\t{predictions}')\n",
    "print(f'True labels:\\t{labels}')"
   ]
  },
  {
   "cell_type": "markdown",
   "id": "c7ea5280",
   "metadata": {},
   "source": [
    "## Grading\n",
    "\n",
    "You will be evaluated on the accuracy, depth, width of your model and the number of parameters in your model.\n"
   ]
  },
  {
   "cell_type": "markdown",
   "id": "130eb0ba",
   "metadata": {},
   "source": [
    "The following function will return the width and depth of your model as they will be used in grading. Use it to self-evaluate your model.\n"
   ]
  },
  {
   "cell_type": "code",
   "execution_count": null,
   "id": "09a80a52",
   "metadata": {},
   "outputs": [],
   "source": [
    "from classiq import QuantumProgram\n",
    "\n",
    "def get_metrics(qprog):\n",
    "    \"\"\"\n",
    "    Extract circuit metrics from a quantum program.\n",
    "\n",
    "    Parameters:\n",
    "        qprog: The quantum program object.\n",
    "\n",
    "    Returns:\n",
    "        dict: A dictionary containing the circuit metrics:\n",
    "              - \"depth\": Circuit depth\n",
    "              - \"width\": Circuit width\n",
    "    \"\"\"\n",
    "    circuit = QuantumProgram.from_qprog(qprog)\n",
    "\n",
    "    metrics = {\n",
    "        \"depth\": circuit.transpiled_circuit.depth,\n",
    "        \"width\": circuit.data.width,\n",
    "    }\n",
    "\n",
    "    return metrics\n",
    "\n",
    "def calculate_score(accuracy, metrics):\n",
    "    A = accuracy\n",
    "    P = num_weights\n",
    "    D = metrics['depth']\n",
    "    W = num_qubits\n",
    "\n",
    "    score = A - 0.1 * P - 0.0002 * D - 0.1 * W\n",
    "    return round(score, 5)"
   ]
  },
  {
   "cell_type": "code",
   "execution_count": null,
   "id": "4e928cf0",
   "metadata": {},
   "outputs": [
    {
     "name": "stdout",
     "output_type": "stream",
     "text": [
      "{'depth': 20, 'width': 5}\n",
      "Score: 0.296\n",
      "Max attainable score with circuit design: 0.296\n"
     ]
    }
   ],
   "source": [
    "metrics = get_metrics(QPROG)\n",
    "\n",
    "print(metrics)\n",
    "print(f'Score: {calculate_score(accuracy, metrics)}')\n",
    "print(f'Max attainable score with circuit design: {calculate_score(1, metrics)}')"
   ]
  },
  {
   "cell_type": "markdown",
   "id": "cd17c6a4",
   "metadata": {},
   "source": [
    "# Submission\n",
    "\n",
    "You will submit this notebook, your trained parameters, and your quantum model.\n"
   ]
  },
  {
   "cell_type": "code",
   "execution_count": null,
   "id": "3262a32f",
   "metadata": {},
   "outputs": [],
   "source": [
    "# Do not change this cell\n",
    "\n",
    "import os\n",
    "\n",
    "def save_qprog(qprog, team_name: str, folder=\".\"):\n",
    "    assert isinstance(team_name, str)\n",
    "    file_name = f\"{team_name.replace(' ','_')}.qprog\"\n",
    "    with open(os.path.join(folder, file_name), 'w') as f:\n",
    "        f.write(qprog.model_dump_json(indent=4))\n",
    "        \n",
    "def save_params(params, team_name: str, folder=\".\"):\n",
    "    assert isinstance(team_name, str)\n",
    "    file_name = f\"{team_name.replace(' ','_')}.npz\"\n",
    "    with open(os.path.join(folder, file_name), 'wb') as f:\n",
    "        np.savez(f, params=params)"
   ]
  },
  {
   "cell_type": "code",
   "execution_count": null,
   "id": "42cbc05d",
   "metadata": {},
   "outputs": [],
   "source": [
    "# Change to your team name!!\n",
    "\n",
    "TEAM_NAME = \"NotJustAPhase\"\n",
    "\n",
    "# Insert your trained parameters here!\n",
    "\n",
    "TRAINED_PARAMS = optimised_weights\n",
    "\n",
    "save_qprog(QPROG, team_name=TEAM_NAME)\n",
    "save_params(params=TRAINED_PARAMS, team_name=TEAM_NAME)\n"
   ]
  }
 ],
 "metadata": {
  "kernelspec": {
   "display_name": "venv",
   "language": "python",
   "name": "python3"
  },
  "language_info": {
   "codemirror_mode": {
    "name": "ipython",
    "version": 3
   },
   "file_extension": ".py",
   "mimetype": "text/x-python",
   "name": "python",
   "nbconvert_exporter": "python",
   "pygments_lexer": "ipython3",
   "version": "3.12.9"
  }
 },
 "nbformat": 4,
 "nbformat_minor": 5
}
